{
 "cells": [
  {
   "cell_type": "markdown",
   "metadata": {},
   "source": [
    "## 練習時間\n",
    "資料的操作有很多，接下來的馬拉松中我們會介紹常被使用到的操作，參加者不妨先自行想像一下，第一次看到資料，我們一般會想知道什麼訊息？\n",
    "\n",
    "#### Ex: 如何知道資料的 row 數以及 column 數、有什麼欄位、多少欄位、如何截取部分的資料等等\n",
    "\n",
    "有了對資料的好奇之後，我們又怎麼通過程式碼來達成我們的目的呢？\n",
    "\n",
    "#### 可參考該[基礎教材](https://bookdata.readthedocs.io/en/latest/base/01_pandas.html#DataFrame-%E5%85%A5%E9%97%A8)或自行 google"
   ]
  },
  {
   "cell_type": "markdown",
   "metadata": {},
   "source": [
    "# [作業目標]\n",
    "- 熟悉更多的 Python 資料操作"
   ]
  },
  {
   "cell_type": "markdown",
   "metadata": {},
   "source": [
    "# [作業重點]\n",
    "- 列出資料的大小 (In[4], Hint : shape)\n",
    "- 列出所有欄位 (In[5], 有多種寫法)\n",
    "- 擷取部分資料 (In[6], Hint : loc 或 iloc)"
   ]
  },
  {
   "cell_type": "code",
   "execution_count": 1,
   "metadata": {},
   "outputs": [],
   "source": [
    "import os\n",
    "import numpy as np\n",
    "import pandas as pd"
   ]
  },
  {
   "cell_type": "code",
   "execution_count": 2,
   "metadata": {},
   "outputs": [],
   "source": [
    "# 設定 data_path\n",
    "dir_data = './'"
   ]
  },
  {
   "cell_type": "code",
   "execution_count": 3,
   "metadata": {},
   "outputs": [
    {
     "name": "stdout",
     "output_type": "stream",
     "text": [
      "Path of read in data: ./application_train.csv\n"
     ]
    }
   ],
   "source": [
    "f_app = os.path.join(dir_data, 'application_train.csv')\n",
    "print('Path of read in data: %s' % (f_app))\n",
    "app_train = pd.read_csv(f_app)"
   ]
  },
  {
   "cell_type": "markdown",
   "metadata": {},
   "source": [
    "### 如果沒有想法，可以先嘗試找出剛剛例子中提到的問題的答案\n",
    "#### 資料的 row 數以及 column 數"
   ]
  },
  {
   "cell_type": "code",
   "execution_count": 5,
   "metadata": {},
   "outputs": [
    {
     "data": {
      "text/plain": [
       "122"
      ]
     },
     "execution_count": 5,
     "metadata": {},
     "output_type": "execute_result"
    }
   ],
   "source": [
    "num_row = len(app_train)\n",
    "num_column = len(app_train.columns)"
   ]
  },
  {
   "cell_type": "markdown",
   "metadata": {},
   "source": [
    "#### 列出所有欄位"
   ]
  },
  {
   "cell_type": "code",
   "execution_count": 6,
   "metadata": {},
   "outputs": [
    {
     "data": {
      "text/plain": [
       "Index(['SK_ID_CURR', 'TARGET', 'NAME_CONTRACT_TYPE', 'CODE_GENDER',\n",
       "       'FLAG_OWN_CAR', 'FLAG_OWN_REALTY', 'CNT_CHILDREN', 'AMT_INCOME_TOTAL',\n",
       "       'AMT_CREDIT', 'AMT_ANNUITY',\n",
       "       ...\n",
       "       'FLAG_DOCUMENT_18', 'FLAG_DOCUMENT_19', 'FLAG_DOCUMENT_20',\n",
       "       'FLAG_DOCUMENT_21', 'AMT_REQ_CREDIT_BUREAU_HOUR',\n",
       "       'AMT_REQ_CREDIT_BUREAU_DAY', 'AMT_REQ_CREDIT_BUREAU_WEEK',\n",
       "       'AMT_REQ_CREDIT_BUREAU_MON', 'AMT_REQ_CREDIT_BUREAU_QRT',\n",
       "       'AMT_REQ_CREDIT_BUREAU_YEAR'],\n",
       "      dtype='object', length=122)"
      ]
     },
     "execution_count": 6,
     "metadata": {},
     "output_type": "execute_result"
    }
   ],
   "source": [
    "app_train.columns"
   ]
  },
  {
   "cell_type": "markdown",
   "metadata": {},
   "source": [
    "#### 截取部分資料"
   ]
  },
  {
   "cell_type": "code",
   "execution_count": 9,
   "metadata": {},
   "outputs": [
    {
     "data": {
      "text/plain": [
       "SK_ID_CURR                                           100002\n",
       "TARGET                                                    1\n",
       "NAME_CONTRACT_TYPE                               Cash loans\n",
       "CODE_GENDER                                               M\n",
       "FLAG_OWN_CAR                                              N\n",
       "FLAG_OWN_REALTY                                           Y\n",
       "CNT_CHILDREN                                              0\n",
       "AMT_INCOME_TOTAL                                     202500\n",
       "AMT_CREDIT                                           406598\n",
       "AMT_ANNUITY                                         24700.5\n",
       "AMT_GOODS_PRICE                                      351000\n",
       "NAME_TYPE_SUITE                               Unaccompanied\n",
       "NAME_INCOME_TYPE                                    Working\n",
       "NAME_EDUCATION_TYPE           Secondary / secondary special\n",
       "NAME_FAMILY_STATUS                     Single / not married\n",
       "NAME_HOUSING_TYPE                         House / apartment\n",
       "REGION_POPULATION_RELATIVE                         0.018801\n",
       "DAYS_BIRTH                                            -9461\n",
       "DAYS_EMPLOYED                                          -637\n",
       "DAYS_REGISTRATION                                     -3648\n",
       "DAYS_ID_PUBLISH                                       -2120\n",
       "OWN_CAR_AGE                                             NaN\n",
       "FLAG_MOBIL                                                1\n",
       "FLAG_EMP_PHONE                                            1\n",
       "FLAG_WORK_PHONE                                           0\n",
       "FLAG_CONT_MOBILE                                          1\n",
       "FLAG_PHONE                                                1\n",
       "FLAG_EMAIL                                                0\n",
       "OCCUPATION_TYPE                                    Laborers\n",
       "CNT_FAM_MEMBERS                                           1\n",
       "                                          ...              \n",
       "DEF_30_CNT_SOCIAL_CIRCLE                                  2\n",
       "OBS_60_CNT_SOCIAL_CIRCLE                                  2\n",
       "DEF_60_CNT_SOCIAL_CIRCLE                                  2\n",
       "DAYS_LAST_PHONE_CHANGE                                -1134\n",
       "FLAG_DOCUMENT_2                                           0\n",
       "FLAG_DOCUMENT_3                                           1\n",
       "FLAG_DOCUMENT_4                                           0\n",
       "FLAG_DOCUMENT_5                                           0\n",
       "FLAG_DOCUMENT_6                                           0\n",
       "FLAG_DOCUMENT_7                                           0\n",
       "FLAG_DOCUMENT_8                                           0\n",
       "FLAG_DOCUMENT_9                                           0\n",
       "FLAG_DOCUMENT_10                                          0\n",
       "FLAG_DOCUMENT_11                                          0\n",
       "FLAG_DOCUMENT_12                                          0\n",
       "FLAG_DOCUMENT_13                                          0\n",
       "FLAG_DOCUMENT_14                                          0\n",
       "FLAG_DOCUMENT_15                                          0\n",
       "FLAG_DOCUMENT_16                                          0\n",
       "FLAG_DOCUMENT_17                                          0\n",
       "FLAG_DOCUMENT_18                                          0\n",
       "FLAG_DOCUMENT_19                                          0\n",
       "FLAG_DOCUMENT_20                                          0\n",
       "FLAG_DOCUMENT_21                                          0\n",
       "AMT_REQ_CREDIT_BUREAU_HOUR                                0\n",
       "AMT_REQ_CREDIT_BUREAU_DAY                                 0\n",
       "AMT_REQ_CREDIT_BUREAU_WEEK                                0\n",
       "AMT_REQ_CREDIT_BUREAU_MON                                 0\n",
       "AMT_REQ_CREDIT_BUREAU_QRT                                 0\n",
       "AMT_REQ_CREDIT_BUREAU_YEAR                                1\n",
       "Name: 0, Length: 122, dtype: object"
      ]
     },
     "execution_count": 9,
     "metadata": {},
     "output_type": "execute_result"
    }
   ],
   "source": [
    "app_train.iloc[0,:]"
   ]
  },
  {
   "cell_type": "code",
   "execution_count": 8,
   "metadata": {},
   "outputs": [
    {
     "data": {
      "text/html": [
       "<div>\n",
       "<style scoped>\n",
       "    .dataframe tbody tr th:only-of-type {\n",
       "        vertical-align: middle;\n",
       "    }\n",
       "\n",
       "    .dataframe tbody tr th {\n",
       "        vertical-align: top;\n",
       "    }\n",
       "\n",
       "    .dataframe thead th {\n",
       "        text-align: right;\n",
       "    }\n",
       "</style>\n",
       "<table border=\"1\" class=\"dataframe\">\n",
       "  <thead>\n",
       "    <tr style=\"text-align: right;\">\n",
       "      <th></th>\n",
       "      <th>SK_ID_CURR</th>\n",
       "      <th>TARGET</th>\n",
       "      <th>NAME_CONTRACT_TYPE</th>\n",
       "      <th>CODE_GENDER</th>\n",
       "      <th>FLAG_OWN_CAR</th>\n",
       "      <th>FLAG_OWN_REALTY</th>\n",
       "      <th>CNT_CHILDREN</th>\n",
       "      <th>AMT_INCOME_TOTAL</th>\n",
       "      <th>AMT_CREDIT</th>\n",
       "      <th>AMT_ANNUITY</th>\n",
       "      <th>...</th>\n",
       "      <th>FLAG_DOCUMENT_18</th>\n",
       "      <th>FLAG_DOCUMENT_19</th>\n",
       "      <th>FLAG_DOCUMENT_20</th>\n",
       "      <th>FLAG_DOCUMENT_21</th>\n",
       "      <th>AMT_REQ_CREDIT_BUREAU_HOUR</th>\n",
       "      <th>AMT_REQ_CREDIT_BUREAU_DAY</th>\n",
       "      <th>AMT_REQ_CREDIT_BUREAU_WEEK</th>\n",
       "      <th>AMT_REQ_CREDIT_BUREAU_MON</th>\n",
       "      <th>AMT_REQ_CREDIT_BUREAU_QRT</th>\n",
       "      <th>AMT_REQ_CREDIT_BUREAU_YEAR</th>\n",
       "    </tr>\n",
       "  </thead>\n",
       "  <tbody>\n",
       "    <tr>\n",
       "      <th>307506</th>\n",
       "      <td>456251</td>\n",
       "      <td>0</td>\n",
       "      <td>Cash loans</td>\n",
       "      <td>M</td>\n",
       "      <td>N</td>\n",
       "      <td>N</td>\n",
       "      <td>0</td>\n",
       "      <td>157500.0</td>\n",
       "      <td>254700.0</td>\n",
       "      <td>27558.0</td>\n",
       "      <td>...</td>\n",
       "      <td>0</td>\n",
       "      <td>0</td>\n",
       "      <td>0</td>\n",
       "      <td>0</td>\n",
       "      <td>NaN</td>\n",
       "      <td>NaN</td>\n",
       "      <td>NaN</td>\n",
       "      <td>NaN</td>\n",
       "      <td>NaN</td>\n",
       "      <td>NaN</td>\n",
       "    </tr>\n",
       "    <tr>\n",
       "      <th>307507</th>\n",
       "      <td>456252</td>\n",
       "      <td>0</td>\n",
       "      <td>Cash loans</td>\n",
       "      <td>F</td>\n",
       "      <td>N</td>\n",
       "      <td>Y</td>\n",
       "      <td>0</td>\n",
       "      <td>72000.0</td>\n",
       "      <td>269550.0</td>\n",
       "      <td>12001.5</td>\n",
       "      <td>...</td>\n",
       "      <td>0</td>\n",
       "      <td>0</td>\n",
       "      <td>0</td>\n",
       "      <td>0</td>\n",
       "      <td>NaN</td>\n",
       "      <td>NaN</td>\n",
       "      <td>NaN</td>\n",
       "      <td>NaN</td>\n",
       "      <td>NaN</td>\n",
       "      <td>NaN</td>\n",
       "    </tr>\n",
       "    <tr>\n",
       "      <th>307508</th>\n",
       "      <td>456253</td>\n",
       "      <td>0</td>\n",
       "      <td>Cash loans</td>\n",
       "      <td>F</td>\n",
       "      <td>N</td>\n",
       "      <td>Y</td>\n",
       "      <td>0</td>\n",
       "      <td>153000.0</td>\n",
       "      <td>677664.0</td>\n",
       "      <td>29979.0</td>\n",
       "      <td>...</td>\n",
       "      <td>0</td>\n",
       "      <td>0</td>\n",
       "      <td>0</td>\n",
       "      <td>0</td>\n",
       "      <td>1.0</td>\n",
       "      <td>0.0</td>\n",
       "      <td>0.0</td>\n",
       "      <td>1.0</td>\n",
       "      <td>0.0</td>\n",
       "      <td>1.0</td>\n",
       "    </tr>\n",
       "    <tr>\n",
       "      <th>307509</th>\n",
       "      <td>456254</td>\n",
       "      <td>1</td>\n",
       "      <td>Cash loans</td>\n",
       "      <td>F</td>\n",
       "      <td>N</td>\n",
       "      <td>Y</td>\n",
       "      <td>0</td>\n",
       "      <td>171000.0</td>\n",
       "      <td>370107.0</td>\n",
       "      <td>20205.0</td>\n",
       "      <td>...</td>\n",
       "      <td>0</td>\n",
       "      <td>0</td>\n",
       "      <td>0</td>\n",
       "      <td>0</td>\n",
       "      <td>0.0</td>\n",
       "      <td>0.0</td>\n",
       "      <td>0.0</td>\n",
       "      <td>0.0</td>\n",
       "      <td>0.0</td>\n",
       "      <td>0.0</td>\n",
       "    </tr>\n",
       "    <tr>\n",
       "      <th>307510</th>\n",
       "      <td>456255</td>\n",
       "      <td>0</td>\n",
       "      <td>Cash loans</td>\n",
       "      <td>F</td>\n",
       "      <td>N</td>\n",
       "      <td>N</td>\n",
       "      <td>0</td>\n",
       "      <td>157500.0</td>\n",
       "      <td>675000.0</td>\n",
       "      <td>49117.5</td>\n",
       "      <td>...</td>\n",
       "      <td>0</td>\n",
       "      <td>0</td>\n",
       "      <td>0</td>\n",
       "      <td>0</td>\n",
       "      <td>0.0</td>\n",
       "      <td>0.0</td>\n",
       "      <td>0.0</td>\n",
       "      <td>2.0</td>\n",
       "      <td>0.0</td>\n",
       "      <td>1.0</td>\n",
       "    </tr>\n",
       "  </tbody>\n",
       "</table>\n",
       "<p>5 rows × 122 columns</p>\n",
       "</div>"
      ],
      "text/plain": [
       "        SK_ID_CURR  TARGET NAME_CONTRACT_TYPE CODE_GENDER FLAG_OWN_CAR  \\\n",
       "307506      456251       0         Cash loans           M            N   \n",
       "307507      456252       0         Cash loans           F            N   \n",
       "307508      456253       0         Cash loans           F            N   \n",
       "307509      456254       1         Cash loans           F            N   \n",
       "307510      456255       0         Cash loans           F            N   \n",
       "\n",
       "       FLAG_OWN_REALTY  CNT_CHILDREN  AMT_INCOME_TOTAL  AMT_CREDIT  \\\n",
       "307506               N             0          157500.0    254700.0   \n",
       "307507               Y             0           72000.0    269550.0   \n",
       "307508               Y             0          153000.0    677664.0   \n",
       "307509               Y             0          171000.0    370107.0   \n",
       "307510               N             0          157500.0    675000.0   \n",
       "\n",
       "        AMT_ANNUITY  ...  FLAG_DOCUMENT_18 FLAG_DOCUMENT_19 FLAG_DOCUMENT_20  \\\n",
       "307506      27558.0  ...                 0                0                0   \n",
       "307507      12001.5  ...                 0                0                0   \n",
       "307508      29979.0  ...                 0                0                0   \n",
       "307509      20205.0  ...                 0                0                0   \n",
       "307510      49117.5  ...                 0                0                0   \n",
       "\n",
       "       FLAG_DOCUMENT_21 AMT_REQ_CREDIT_BUREAU_HOUR AMT_REQ_CREDIT_BUREAU_DAY  \\\n",
       "307506                0                        NaN                       NaN   \n",
       "307507                0                        NaN                       NaN   \n",
       "307508                0                        1.0                       0.0   \n",
       "307509                0                        0.0                       0.0   \n",
       "307510                0                        0.0                       0.0   \n",
       "\n",
       "        AMT_REQ_CREDIT_BUREAU_WEEK  AMT_REQ_CREDIT_BUREAU_MON  \\\n",
       "307506                         NaN                        NaN   \n",
       "307507                         NaN                        NaN   \n",
       "307508                         0.0                        1.0   \n",
       "307509                         0.0                        0.0   \n",
       "307510                         0.0                        2.0   \n",
       "\n",
       "        AMT_REQ_CREDIT_BUREAU_QRT  AMT_REQ_CREDIT_BUREAU_YEAR  \n",
       "307506                        NaN                         NaN  \n",
       "307507                        NaN                         NaN  \n",
       "307508                        0.0                         1.0  \n",
       "307509                        0.0                         0.0  \n",
       "307510                        0.0                         1.0  \n",
       "\n",
       "[5 rows x 122 columns]"
      ]
     },
     "execution_count": 8,
     "metadata": {},
     "output_type": "execute_result"
    }
   ],
   "source": [
    "app_train.tail()"
   ]
  },
  {
   "cell_type": "markdown",
   "metadata": {},
   "source": [
    "#### 還有各種數之不盡的資料操作，重點還是取決於實務中遇到的狀況和你想問的問題，在馬拉松中我們也會陸續提到更多例子"
   ]
  },
  {
   "cell_type": "code",
   "execution_count": null,
   "metadata": {
    "collapsed": true
   },
   "outputs": [],
   "source": []
  }
 ],
 "metadata": {
  "kernelspec": {
   "display_name": "Python 3",
   "language": "python",
   "name": "python3"
  },
  "language_info": {
   "codemirror_mode": {
    "name": "ipython",
    "version": 3
   },
   "file_extension": ".py",
   "mimetype": "text/x-python",
   "name": "python",
   "nbconvert_exporter": "python",
   "pygments_lexer": "ipython3",
   "version": "3.7.3"
  }
 },
 "nbformat": 4,
 "nbformat_minor": 2
}
